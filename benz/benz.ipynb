{
 "cells": [
  {
   "cell_type": "markdown",
   "id": "b9f5987e-8d2c-4173-aa76-15637e891046",
   "metadata": {},
   "source": [
    "notebook para representar una imagen estructur fdf"
   ]
  },
  {
   "cell_type": "code",
   "execution_count": 2,
   "id": "765fa510-d41a-422d-ab65-2959ef00d10e",
   "metadata": {},
   "outputs": [],
   "source": [
    "import sisl as si"
   ]
  },
  {
   "cell_type": "code",
   "execution_count": 3,
   "id": "3fb7607d-4f65-4504-bb22-73ae9b5a7887",
   "metadata": {},
   "outputs": [],
   "source": [
    "molecula = si.Geometry.read('benz.fdf')"
   ]
  },
  {
   "cell_type": "code",
   "execution_count": 4,
   "id": "b57dfbb3-72b5-42cf-9ac7-c8a6ffa4c88c",
   "metadata": {},
   "outputs": [
    {
     "name": "stdout",
     "output_type": "stream",
     "text": [
      "Geometry{na: 12, no: 12,\n",
      " Atoms{species: 2,\n",
      "  Atom{C, Z: 6, mass(au): 12.01070, maxR: -1.00000,\n",
      "   Orbital{R: -1.00000, q0: 0.0}\n",
      "  }: 6,\n",
      "  Atom{H, Z: 1, mass(au): 1.00794, maxR: -1.00000,\n",
      "   Orbital{R: -1.00000, q0: 0.0}\n",
      "  }: 6,\n",
      " },\n",
      " maxR: -1.00000,\n",
      " Lattice{nsc: [1 1 1],\n",
      "  origin=[0.0000, 0.0000, 0.0000],\n",
      "  A=[14.3240, 0.0000, 0.0000],\n",
      "  B=[0.0000, 14.9940, 0.0000],\n",
      "  C=[0.0000, 0.0000, 10.0000],\n",
      "  bc=[Periodic,\n",
      "      Periodic,\n",
      "      Periodic]\n",
      " }\n",
      "}\n"
     ]
    }
   ],
   "source": [
    "print(molecula)"
   ]
  },
  {
   "cell_type": "code",
   "execution_count": null,
   "id": "49e89672-1919-4978-8359-fd1747b48188",
   "metadata": {},
   "outputs": [],
   "source": []
  }
 ],
 "metadata": {
  "kernelspec": {
   "display_name": "Python 3 (ipykernel)",
   "language": "python",
   "name": "python3"
  },
  "language_info": {
   "codemirror_mode": {
    "name": "ipython",
    "version": 3
   },
   "file_extension": ".py",
   "mimetype": "text/x-python",
   "name": "python",
   "nbconvert_exporter": "python",
   "pygments_lexer": "ipython3",
   "version": "3.12.8"
  }
 },
 "nbformat": 4,
 "nbformat_minor": 5
}
